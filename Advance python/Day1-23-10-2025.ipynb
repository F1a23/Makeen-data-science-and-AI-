{
 "cells": [
  {
   "cell_type": "markdown",
   "id": "e79137b7-6582-4759-9cde-1b8076cf8af9",
   "metadata": {},
   "source": [
    "numpy"
   ]
  },
  {
   "cell_type": "code",
   "execution_count": 2,
   "id": "f882fba1-2936-4745-a799-30e633f719f0",
   "metadata": {},
   "outputs": [],
   "source": [
    "import numpy as np"
   ]
  },
  {
   "cell_type": "code",
   "execution_count": 5,
   "id": "52c44a52-7775-4c91-bf4e-4cd843cb1d83",
   "metadata": {},
   "outputs": [
    {
     "name": "stdout",
     "output_type": "stream",
     "text": [
      "Array: [1 2 3 4 5]\n",
      "Sum: 15\n",
      "Mean: 3.0\n"
     ]
    }
   ],
   "source": [
    "a = np.array([1, 2, 3, 4, 5])\n",
    "print(\"Array:\", a)\n",
    "print(\"Sum:\", np.sum(a))\n",
    "print(\"Mean:\", np.mean(a))\n"
   ]
  },
  {
   "cell_type": "markdown",
   "id": "107a9c7a-3505-4ae8-a3be-f0439cf87a43",
   "metadata": {},
   "source": [
    "we need to store the data structure in variable to used in other place"
   ]
  },
  {
   "cell_type": "code",
   "execution_count": 6,
   "id": "b60f4e7d-a07f-4ed5-9a52-f40510604d99",
   "metadata": {},
   "outputs": [
    {
     "name": "stdout",
     "output_type": "stream",
     "text": [
      "[1 2 3]\n"
     ]
    }
   ],
   "source": [
    "myArray=np.array([1,2,3])\n",
    "print(myArray)"
   ]
  },
  {
   "cell_type": "code",
   "execution_count": 7,
   "id": "b76d539e-beb1-40fa-b444-f2de7f7f897c",
   "metadata": {},
   "outputs": [
    {
     "data": {
      "text/plain": [
       "array([1, 2, 3])"
      ]
     },
     "execution_count": 7,
     "metadata": {},
     "output_type": "execute_result"
    }
   ],
   "source": [
    "myArray"
   ]
  },
  {
   "cell_type": "markdown",
   "id": "bec06474-e00b-4904-9af8-d156cb23a4f7",
   "metadata": {},
   "source": [
    "list to array : change the data structure"
   ]
  },
  {
   "cell_type": "code",
   "execution_count": 9,
   "id": "57ffee60-ad04-42d3-8515-a8077b6dc0b6",
   "metadata": {},
   "outputs": [
    {
     "name": "stdout",
     "output_type": "stream",
     "text": [
      "this is my list : [1, 2, 3, 4, 5]\n",
      "this is my array : [1 2 3 4 5]\n"
     ]
    }
   ],
   "source": [
    "myList=[1, 2, 3, 4, 5]\n",
    "myArray=np.array(myList)\n",
    "\n",
    "print(\"this is my list :\",myList)\n",
    "print(\"this is my array :\",myArray) #مصفوفة"
   ]
  },
  {
   "cell_type": "code",
   "execution_count": 11,
   "id": "b0f7a56e-8f73-4ce0-8159-cb0073fee608",
   "metadata": {},
   "outputs": [
    {
     "name": "stdout",
     "output_type": "stream",
     "text": [
      "this array of students grades:  [ 92  93 100  40  59]\n"
     ]
    }
   ],
   "source": [
    "myarray2=np.array([92,93,100,40,59])  #this students grades\n",
    "#myarray2\n",
    "print(\"this array of students grades: \",myarray2)"
   ]
  },
  {
   "cell_type": "code",
   "execution_count": 20,
   "id": "fa07c6d1-aad4-4aee-aff4-d68d0dae779d",
   "metadata": {},
   "outputs": [
    {
     "name": "stdout",
     "output_type": "stream",
     "text": [
      "[[ 90  91]\n",
      " [ 95  96]\n",
      " [100  93]]\n"
     ]
    }
   ],
   "source": [
    "my2Darray=np.array([\n",
    "    [90,91],\n",
    "    [95,96],\n",
    "    [100,93]\n",
    "    ]\n",
    ")\n",
    "print(my2Darray) # the output as table beacuse it's an array"
   ]
  },
  {
   "cell_type": "code",
   "execution_count": 21,
   "id": "b8057e08-14c9-42dc-8f73-a0f692a3b7bb",
   "metadata": {},
   "outputs": [
    {
     "name": "stdout",
     "output_type": "stream",
     "text": [
      "[[90, 91], [95, 96], [100, 93]]\n"
     ]
    }
   ],
   "source": [
    "mylist2=[\n",
    "    [90,91],\n",
    "    [95,96],\n",
    "    [100,93]\n",
    "    ]\n",
    "\n",
    "print(mylist2)\n",
    "#the output it will not came as tuble"
   ]
  },
  {
   "cell_type": "code",
   "execution_count": 22,
   "id": "faee8a20-784f-4e2d-98e8-e3d07cd4eb60",
   "metadata": {},
   "outputs": [
    {
     "name": "stdout",
     "output_type": "stream",
     "text": [
      "[[0 3 0]\n",
      " [0 0 1]\n",
      " [0 0 1]\n",
      " [1 0 0]\n",
      " [0 0 1]\n",
      " [3 1 1]\n",
      " [0 1 0]\n",
      " [1 0 1]]\n"
     ]
    }
   ],
   "source": [
    "myarray3=np.array([\n",
    "    [0,3,0],\n",
    "    [0,0,1],\n",
    "    [0,0,1],\n",
    "    [1,0,0],\n",
    "    [0,0,1],\n",
    "    [3,1,1],\n",
    "    [0,1,0],\n",
    "    [1,0,1]\n",
    "    ]\n",
    ")\n",
    "print(myarray3)"
   ]
  },
  {
   "cell_type": "code",
   "execution_count": 23,
   "id": "3fdd90ec-a299-47c0-9263-060bc5fba2db",
   "metadata": {},
   "outputs": [
    {
     "data": {
      "text/plain": [
       "(8, 3)"
      ]
     },
     "execution_count": 23,
     "metadata": {},
     "output_type": "execute_result"
    }
   ],
   "source": [
    "#to find the size of the array : shape\n",
    "myarray3.shape  # output from this it will be in tuple format"
   ]
  },
  {
   "cell_type": "code",
   "execution_count": 28,
   "id": "0c2207fe-2ed4-41fc-81ca-b551d0686fdd",
   "metadata": {},
   "outputs": [
    {
     "name": "stdout",
     "output_type": "stream",
     "text": [
      "(8, 3)\n",
      "number of rows in this array:  8\n",
      "number of columns in this array:  3\n"
     ]
    }
   ],
   "source": [
    "araysize=myarray3.shape  #(row,col)\n",
    "print(araysize)\n",
    "print(\"number of rows in this array: \", araysize[0]) #number of the rows\n",
    "print(\"number of columns in this array: \", araysize[1]) #number of the columns"
   ]
  },
  {
   "cell_type": "code",
   "execution_count": 24,
   "id": "37d0320b-1606-4de1-a0b4-4819e24fe26c",
   "metadata": {},
   "outputs": [
    {
     "data": {
      "text/plain": [
       "dtype('int64')"
      ]
     },
     "execution_count": 24,
     "metadata": {},
     "output_type": "execute_result"
    }
   ],
   "source": [
    "#to find the data types of the array : dtype\n",
    "myarray3.dtype"
   ]
  },
  {
   "cell_type": "code",
   "execution_count": 29,
   "id": "cad82456-7359-4866-8631-384c0c204081",
   "metadata": {},
   "outputs": [
    {
     "name": "stdout",
     "output_type": "stream",
     "text": [
      "[0. 0. 0. 0. 0. 0. 0. 0. 0. 0. 0. 0. 0. 0. 0. 0. 0. 0. 0. 0. 0. 0. 0. 0.\n",
      " 0. 0. 0. 0. 0. 0. 0. 0. 0. 0. 0. 0. 0. 0. 0. 0. 0. 0. 0. 0. 0. 0. 0. 0.\n",
      " 0. 0. 0. 0. 0. 0. 0. 0. 0. 0. 0. 0. 0. 0. 0. 0. 0. 0. 0. 0. 0. 0. 0. 0.\n",
      " 0. 0. 0. 0. 0. 0. 0. 0. 0. 0. 0. 0. 0. 0. 0. 0. 0. 0. 0. 0. 0. 0. 0. 0.\n",
      " 0. 0. 0. 0.]\n"
     ]
    }
   ],
   "source": [
    "# to print array have all elements zero use :  np.zeros\n",
    "myZerosArray=np.zeros(100,'float')\n",
    "print(myZerosArray)"
   ]
  },
  {
   "cell_type": "code",
   "execution_count": 31,
   "id": "fc81745a-d6cb-4082-921f-f568ae3d373d",
   "metadata": {},
   "outputs": [
    {
     "name": "stdout",
     "output_type": "stream",
     "text": [
      "[0 0 0 0 0 0 0 0 0 0 0 0 0 0 0 0 0 0 0 0 0 0 0 0 0 0 0 0 0 0 0 0 0 0 0 0 0\n",
      " 0 0 0 0 0 0 0 0 0 0 0 0 0 0 0 0 0 0 0 0 0 0 0 0 0 0 0 0 0 0 0 0 0 0 0 0 0\n",
      " 0 0 0 0 0 0 0 0 0 0 0 0 0 0 0 0 0 0 0 0 0 0 0 0 0 0]\n"
     ]
    }
   ],
   "source": [
    "# to print array have all elements zero use :  np.zeros\n",
    "# you can write the datatype int or float if you want\n",
    "myZerosArray=np.zeros(100,'int')\n",
    "print(myZerosArray)"
   ]
  },
  {
   "cell_type": "code",
   "execution_count": 3,
   "id": "ea40d97d-854d-4b2f-80d6-82686ecf59ca",
   "metadata": {},
   "outputs": [
    {
     "name": "stdout",
     "output_type": "stream",
     "text": [
      "[[0. 0.]\n",
      " [0. 0.]\n",
      " [0. 0.]\n",
      " [0. 0.]\n",
      " [0. 0.]\n",
      " [0. 0.]\n",
      " [0. 0.]\n",
      " [0. 0.]\n",
      " [0. 0.]\n",
      " [0. 0.]]\n"
     ]
    }
   ],
   "source": [
    "# here you can write how many row and how many cloumn you want\n",
    "myZerosArray=np.zeros([10,2],'float')\n",
    "print(myZerosArray)"
   ]
  },
  {
   "cell_type": "code",
   "execution_count": 5,
   "id": "5994c93c-ce7d-4717-b47b-87ae9e7418e3",
   "metadata": {},
   "outputs": [
    {
     "name": "stdout",
     "output_type": "stream",
     "text": [
      "[[1 1]\n",
      " [1 1]\n",
      " [1 1]\n",
      " [1 1]\n",
      " [1 1]\n",
      " [1 1]\n",
      " [1 1]\n",
      " [1 1]\n",
      " [1 1]\n",
      " [1 1]]\n"
     ]
    }
   ],
   "source": [
    "myZerosArray=np.ones([10,2],'int')\n",
    "print(myZerosArray)"
   ]
  },
  {
   "cell_type": "code",
   "execution_count": 6,
   "id": "e2fb8c83-4ce0-47ed-be6b-46035c6abeb8",
   "metadata": {},
   "outputs": [
    {
     "data": {
      "text/plain": [
       "array([[1., 0., 0., 0., 0.],\n",
       "       [0., 1., 0., 0., 0.],\n",
       "       [0., 0., 1., 0., 0.],\n",
       "       [0., 0., 0., 1., 0.],\n",
       "       [0., 0., 0., 0., 1.]])"
      ]
     },
     "execution_count": 6,
     "metadata": {},
     "output_type": "execute_result"
    }
   ],
   "source": [
    "myEey=np.eye(5)\n",
    "myEey"
   ]
  },
  {
   "cell_type": "code",
   "execution_count": 9,
   "id": "e8a2dbd6-8057-4f7a-8156-387352d3ca6a",
   "metadata": {},
   "outputs": [
    {
     "data": {
      "image/png": "[encoded data removed]",
      "text/plain": [
       "<Figure size 640x480 with 2 Axes>"
      ]
     },
     "metadata": {},
     "output_type": "display_data"
    }
   ],
   "source": [
    "import matplotlib.pyplot as plt\n",
    "\n",
    "plt.imshow(myEey, cmap='gray') \n",
    "plt.colorbar()\n",
    "plt.show()"
   ]
  },
  {
   "cell_type": "code",
   "execution_count": 5,
   "id": "04283c84-dc85-4634-be00-89d93ab559de",
   "metadata": {},
   "outputs": [
    {
     "name": "stdout",
     "output_type": "stream",
     "text": [
      "[0 1 2 3 4 5 6 7 8 9]\n"
     ]
    }
   ],
   "source": [
    "#arange\n",
    "arr=np.arange(10)\n",
    "print(arr)"
   ]
  },
  {
   "cell_type": "code",
   "execution_count": 7,
   "id": "c922c68b-3da2-4cc3-a8e3-52f0d375602e",
   "metadata": {},
   "outputs": [
    {
     "name": "stdout",
     "output_type": "stream",
     "text": [
      "[ 2  4  6  8 10 12 14 16 18 20 22 24 26 28 30 32 34 36 38 40 42 44 46 48\n",
      " 50 52 54 56 58 60 62 64 66 68 70 72 74 76 78 80 82 84 86 88 90 92 94 96\n",
      " 98]\n"
     ]
    }
   ],
   "source": [
    "arr1=np.arange(2,100,2)\n",
    "print(arr1)"
   ]
  },
  {
   "cell_type": "code",
   "execution_count": null,
   "id": "f7d75e53-b13c-46b6-bfa4-c39b82346ff3",
   "metadata": {},
   "outputs": [],
   "source": [
    "Create a 2D array of shape (5,5) such that:\n",
    "The diagonal elements are 1 (like an identity matrix).\n",
    "Print the array and also print its shape and data type."
   ]
  },
  {
   "cell_type": "code",
   "execution_count": 12,
   "id": "0d36ff67-3805-4a30-ad00-5f8a6083f5c8",
   "metadata": {},
   "outputs": [
    {
     "name": "stdout",
     "output_type": "stream",
     "text": [
      "My array is :  [[1. 0. 0. 0. 0.]\n",
      " [0. 1. 0. 0. 0.]\n",
      " [0. 0. 1. 0. 0.]\n",
      " [0. 0. 0. 1. 0.]\n",
      " [0. 0. 0. 0. 1.]]\n",
      "the shape of the array is : (5, 5)\n",
      "the data type of the array is : float64\n"
     ]
    }
   ],
   "source": [
    "myarray4=np.eye(5)\n",
    "print(\"My array is : \",myarray4)\n",
    "print(\"the shape of the array is :\",myarray4.shape)\n",
    "print(\"the data type of the array is :\",myarray4.dtype)"
   ]
  },
  {
   "cell_type": "code",
   "execution_count": 17,
   "id": "31317113-8bd0-4c95-8981-aee514c178f1",
   "metadata": {},
   "outputs": [
    {
     "name": "stdout",
     "output_type": "stream",
     "text": [
      "the number at index [0][0] : 1.0\n",
      "----------------------------------------------------------\n",
      "My array is :  [[1. 0. 0. 0. 0.]\n",
      " [0. 1. 0. 0. 0.]\n",
      " [0. 0. 1. 0. 0.]\n",
      " [0. 0. 0. 1. 0.]\n",
      " [0. 0. 0. 0. 1.]]\n",
      "----------------------------------------------------------\n",
      "the shape of the array is : (5, 5)\n",
      "----------------------------------------------------------\n",
      "the data type of the array is : float64\n"
     ]
    }
   ],
   "source": [
    "myarray4=np.eye(5)\n",
    "print(\"the number at index [0][0] :\",myarray4[0][0])\n",
    "print(\"----------------------------------------------------------\")\n",
    "print(\"My array is : \",myarray4)\n",
    "print(\"----------------------------------------------------------\")\n",
    "print(\"the shape of the array is :\",myarray4.shape)\n",
    "print(\"----------------------------------------------------------\")\n",
    "print(\"the data type of the array is :\",myarray4.dtype)"
   ]
  },
  {
   "cell_type": "code",
   "execution_count": 20,
   "id": "697158a6-a1dd-4099-adba-635b9ce210c3",
   "metadata": {},
   "outputs": [
    {
     "name": "stdout",
     "output_type": "stream",
     "text": [
      "1.0\n",
      "0.0\n",
      "0.0\n",
      "0.0\n",
      "0.0\n",
      "0.0\n",
      "1.0\n",
      "0.0\n",
      "0.0\n",
      "0.0\n",
      "0.0\n",
      "0.0\n",
      "1.0\n",
      "0.0\n",
      "0.0\n",
      "0.0\n",
      "0.0\n",
      "0.0\n",
      "1.0\n",
      "0.0\n",
      "0.0\n",
      "0.0\n",
      "0.0\n",
      "0.0\n",
      "1.0\n"
     ]
    }
   ],
   "source": [
    "for i in range(myarray4.shape[0]):\n",
    "    for j in range(myarray4.shape[1]):\n",
    "        print(myarray4[i][j])"
   ]
  },
  {
   "cell_type": "markdown",
   "id": "85268f6d-eed0-4d16-a99a-8d273b003954",
   "metadata": {},
   "source": [
    "العمليات الحسابية في المصفوفة"
   ]
  },
  {
   "cell_type": "code",
   "execution_count": 21,
   "id": "e6570f9e-360b-4b8b-9fa5-4e1623762bc9",
   "metadata": {},
   "outputs": [
    {
     "name": "stdout",
     "output_type": "stream",
     "text": [
      "[3 4 3]\n"
     ]
    }
   ],
   "source": [
    "arr1=np.array([1,2,3])\n",
    "arr2=np.array([3,2,1])\n",
    "result=arr1*arr2\n",
    "print(result)"
   ]
  },
  {
   "cell_type": "code",
   "execution_count": 22,
   "id": "cdc42d46-2498-47a1-ba9a-b7065aa98ab6",
   "metadata": {},
   "outputs": [
    {
     "ename": "ValueError",
     "evalue": "operands could not be broadcast together with shapes (4,) (3,) ",
     "output_type": "error",
     "traceback": [
      "\u001b[31m---------------------------------------------------------------------------\u001b[39m",
      "\u001b[31mValueError\u001b[39m                                Traceback (most recent call last)",
      "\u001b[36mCell\u001b[39m\u001b[36m \u001b[39m\u001b[32mIn[22]\u001b[39m\u001b[32m, line 3\u001b[39m\n\u001b[32m      1\u001b[39m arr1=np.array([\u001b[32m1\u001b[39m,\u001b[32m2\u001b[39m,\u001b[32m3\u001b[39m,\u001b[32m5\u001b[39m])\n\u001b[32m      2\u001b[39m arr2=np.array([\u001b[32m3\u001b[39m,\u001b[32m2\u001b[39m,\u001b[32m1\u001b[39m])\n\u001b[32m----> \u001b[39m\u001b[32m3\u001b[39m result=\u001b[43marr1\u001b[49m\u001b[43m*\u001b[49m\u001b[43marr2\u001b[49m\n\u001b[32m      4\u001b[39m \u001b[38;5;28mprint\u001b[39m(result) \u001b[38;5;66;03m# error beacuse the array or not same shape\u001b[39;00m\n",
      "\u001b[31mValueError\u001b[39m: operands could not be broadcast together with shapes (4,) (3,) "
     ]
    }
   ],
   "source": [
    "arr1=np.array([1,2,3,5])\n",
    "arr2=np.array([3,2,1])\n",
    "result=arr1*arr2\n",
    "print(result) # error beacuse the array or not same shape"
   ]
  },
  {
   "cell_type": "code",
   "execution_count": 25,
   "id": "ac4f833b-2cbb-4e7a-ae9d-5478ac9df7ce",
   "metadata": {},
   "outputs": [
    {
     "name": "stdout",
     "output_type": "stream",
     "text": [
      "6\n"
     ]
    }
   ],
   "source": [
    "print(sum(arr2))"
   ]
  },
  {
   "cell_type": "code",
   "execution_count": 27,
   "id": "d6573c1b-3826-49e7-be2f-7f4c5a7918cb",
   "metadata": {},
   "outputs": [
    {
     "data": {
      "text/plain": [
       "array([2, 1, 0])"
      ]
     },
     "execution_count": 27,
     "metadata": {},
     "output_type": "execute_result"
    }
   ],
   "source": [
    "# -1 from each element in the array\n",
    "arr2-1"
   ]
  },
  {
   "cell_type": "code",
   "execution_count": 28,
   "id": "252cd393-803f-49da-b218-f3f849d50072",
   "metadata": {},
   "outputs": [
    {
     "data": {
      "text/plain": [
       "array([-1,  0,  1,  3])"
      ]
     },
     "execution_count": 28,
     "metadata": {},
     "output_type": "execute_result"
    }
   ],
   "source": [
    "arr1-2"
   ]
  },
  {
   "cell_type": "code",
   "execution_count": 29,
   "id": "ee82d1e2-ccd7-4a4f-807f-34dcf7afde72",
   "metadata": {},
   "outputs": [
    {
     "data": {
      "text/plain": [
       "array([6, 4, 2])"
      ]
     },
     "execution_count": 29,
     "metadata": {},
     "output_type": "execute_result"
    }
   ],
   "source": [
    "arr2*2"
   ]
  },
  {
   "cell_type": "code",
   "execution_count": 30,
   "id": "ed37c129-0e40-4102-b2b5-de7c5dffdbfb",
   "metadata": {},
   "outputs": [
    {
     "data": {
      "text/plain": [
       "array([1.5, 1. , 0.5])"
      ]
     },
     "execution_count": 30,
     "metadata": {},
     "output_type": "execute_result"
    }
   ],
   "source": [
    "arr2/2"
   ]
  },
  {
   "cell_type": "code",
   "execution_count": 36,
   "id": "fa7d7309-7b3b-469d-b93d-e5f5a7d55679",
   "metadata": {},
   "outputs": [
    {
     "name": "stdout",
     "output_type": "stream",
     "text": [
      "the orginal array: \n",
      " [[1 2 3]\n",
      " [4 5 6]]\n",
      "the array after chane the row to column: \n",
      " [[1 4]\n",
      " [2 5]\n",
      " [3 6]]\n"
     ]
    }
   ],
   "source": [
    "arrayd2_a=np.array([\n",
    "    [1,2,3],\n",
    "    [4,5,6]\n",
    "])\n",
    "print(\"the orginal array: \\n\",arrayd2_a)\n",
    "print(\"the array after chane the row to column: \\n\",arrayd2_a.T)"
   ]
  },
  {
   "cell_type": "code",
   "execution_count": 37,
   "id": "4cf20f9a-2e81-4440-889a-795b8eebf799",
   "metadata": {},
   "outputs": [
    {
     "data": {
      "text/plain": [
       "array([10, 20, 30, 40, 50, 60, 70, 80, 90])"
      ]
     },
     "execution_count": 37,
     "metadata": {},
     "output_type": "execute_result"
    }
   ],
   "source": [
    "array7=np.arange(10,100,10)\n",
    "array7"
   ]
  },
  {
   "cell_type": "code",
   "execution_count": 40,
   "id": "6a216b2d-2832-4281-994e-7aa7fda2a531",
   "metadata": {},
   "outputs": [
    {
     "name": "stdout",
     "output_type": "stream",
     "text": [
      "9\n"
     ]
    }
   ],
   "source": [
    "n=array7.shape[0]\n",
    "print(n)"
   ]
  },
  {
   "cell_type": "code",
   "execution_count": 41,
   "id": "7d1423e6-d10f-4845-aab3-d9da4c97e29c",
   "metadata": {},
   "outputs": [
    {
     "name": "stdout",
     "output_type": "stream",
     "text": [
      "10\n"
     ]
    }
   ],
   "source": [
    "print(array7[-9])"
   ]
  },
  {
   "cell_type": "code",
   "execution_count": 44,
   "id": "6f4088f3-f857-471f-9d38-b31f32822304",
   "metadata": {},
   "outputs": [
    {
     "name": "stdout",
     "output_type": "stream",
     "text": [
      "[40 50]\n"
     ]
    }
   ],
   "source": [
    "#slice:\n",
    "print(array7[3:5])"
   ]
  },
  {
   "cell_type": "code",
   "execution_count": 47,
   "id": "f9a73b13-42a5-42a7-9846-af5c74af4388",
   "metadata": {},
   "outputs": [
    {
     "data": {
      "text/plain": [
       "array([ 0,  0,  0,  0,  0, 60, 70, 80, 90])"
      ]
     },
     "execution_count": 47,
     "metadata": {},
     "output_type": "execute_result"
    }
   ],
   "source": [
    "array7[0:5]=0\n",
    "array7"
   ]
  },
  {
   "cell_type": "code",
   "execution_count": null,
   "id": "8271c4c4-8c37-4d08-9b16-0fd97e13369a",
   "metadata": {},
   "outputs": [],
   "source": []
  }
 ],
 "metadata": {
  "kernelspec": {
   "display_name": "Python 3 (ipykernel)",
   "language": "python",
   "name": "python3"
  },
  "language_info": {
   "codemirror_mode": {
    "name": "ipython",
    "version": 3
   },
   "file_extension": ".py",
   "mimetype": "text/x-python",
   "name": "python",
   "nbconvert_exporter": "python",
   "pygments_lexer": "ipython3",
   "version": "3.11.9"
  }
 },
 "nbformat": 4,
 "nbformat_minor": 5
}
